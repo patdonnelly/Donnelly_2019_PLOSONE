{
 "cells": [
  {
   "cell_type": "markdown",
   "metadata": {},
   "source": [
    "### ANALYSIS NOTEBOOK  - DONNELLY 2019 PLOS ONE\n",
    "\n",
    "#### Patrick M. Donnelly  \n",
    "\n",
    "#### University of Washington\n",
    "\n",
    "#### September 25, 2020"
   ]
  },
  {
   "cell_type": "code",
   "execution_count": 36,
   "metadata": {},
   "outputs": [],
   "source": [
    "# import necessary databases and libraries\n",
    "import pandas as pd\n",
    "import numpy as np\n",
    "from scipy import stats"
   ]
  },
  {
   "cell_type": "code",
   "execution_count": 37,
   "metadata": {},
   "outputs": [],
   "source": [
    "# pull data from data folder in repository\n",
    "data = pd.read_csv('data/data.csv')"
   ]
  },
  {
   "cell_type": "markdown",
   "metadata": {},
   "source": [
    "### Demographics Table\n",
    "T-tests and Wilcoxon signed rank tests for Demographics Table 1"
   ]
  },
  {
   "cell_type": "markdown",
   "metadata": {},
   "source": [
    "#### Age"
   ]
  },
  {
   "cell_type": "code",
   "execution_count": 73,
   "metadata": {},
   "outputs": [
    {
     "data": {
      "text/plain": [
       "WilcoxonResult(statistic=67.0, pvalue=0.15600357596610903)"
      ]
     },
     "execution_count": 73,
     "metadata": {},
     "output_type": "execute_result"
    }
   ],
   "source": [
    "stats.wilcoxon(corr_data.visit_age, corr_data_cntrl.visit_age)"
   ]
  },
  {
   "cell_type": "markdown",
   "metadata": {},
   "source": [
    "#### Gender"
   ]
  },
  {
   "cell_type": "code",
   "execution_count": 74,
   "metadata": {},
   "outputs": [
    {
     "data": {
      "text/plain": [
       "WilcoxonResult(statistic=24.0, pvalue=0.36571229628151325)"
      ]
     },
     "execution_count": 74,
     "metadata": {},
     "output_type": "execute_result"
    }
   ],
   "source": [
    "stats.wilcoxon(corr_data.gender, corr_data_cntrl.gender)"
   ]
  },
  {
   "cell_type": "markdown",
   "metadata": {},
   "source": [
    "#### Norm-referenced Measures"
   ]
  },
  {
   "cell_type": "code",
   "execution_count": 75,
   "metadata": {},
   "outputs": [
    {
     "data": {
      "text/plain": [
       "Ttest_indResult(statistic=-0.7682348480557991, pvalue=0.4470957932899269)"
      ]
     },
     "execution_count": 75,
     "metadata": {},
     "output_type": "execute_result"
    }
   ],
   "source": [
    "# WJ Basic Reading Skills composite\n",
    "stats.ttest_ind(corr_data.wj_brs, corr_data_cntrl.wj_brs)"
   ]
  },
  {
   "cell_type": "code",
   "execution_count": 76,
   "metadata": {},
   "outputs": [
    {
     "data": {
      "text/plain": [
       "Ttest_indResult(statistic=-0.17356371189538922, pvalue=0.8631296423986305)"
      ]
     },
     "execution_count": 76,
     "metadata": {},
     "output_type": "execute_result"
    }
   ],
   "source": [
    "# TOWRE-2 Index\n",
    "stats.ttest_ind(corr_data.twre_index, corr_data_cntrl.twre_index)"
   ]
  },
  {
   "cell_type": "code",
   "execution_count": 77,
   "metadata": {},
   "outputs": [
    {
     "data": {
      "text/plain": [
       "Ttest_indResult(statistic=-0.591043444366228, pvalue=0.557990829021477)"
      ]
     },
     "execution_count": 77,
     "metadata": {},
     "output_type": "execute_result"
    }
   ],
   "source": [
    "# WASI-II FS-2 Composite\n",
    "stats.ttest_ind(corr_data.wasi_fs2, corr_data_cntrl.wasi_fs2)"
   ]
  },
  {
   "cell_type": "code",
   "execution_count": 78,
   "metadata": {},
   "outputs": [
    {
     "data": {
      "text/plain": [
       "Ttest_indResult(statistic=-1.1042543990303033, pvalue=0.2764262478932494)"
      ]
     },
     "execution_count": 78,
     "metadata": {},
     "output_type": "execute_result"
    }
   ],
   "source": [
    "# CTOPP-2 Phonological Awareness composite\n",
    "stats.ttest_ind(corr_data.ctopp_pa, corr_data_cntrl.ctopp_pa)"
   ]
  },
  {
   "cell_type": "code",
   "execution_count": 79,
   "metadata": {},
   "outputs": [
    {
     "data": {
      "text/plain": [
       "Ttest_indResult(statistic=-0.5255955660152828, pvalue=0.6022230750972477)"
      ]
     },
     "execution_count": 79,
     "metadata": {},
     "output_type": "execute_result"
    }
   ],
   "source": [
    "# CTOPP-2 Rapid Naming composite\n",
    "stats.ttest_ind(corr_data.ctopp_rapid, corr_data_cntrl.ctopp_rapid)"
   ]
  },
  {
   "cell_type": "markdown",
   "metadata": {},
   "source": [
    "### Correlation Analysis"
   ]
  },
  {
   "cell_type": "code",
   "execution_count": 38,
   "metadata": {},
   "outputs": [],
   "source": [
    "# look at difference scores and practice metrics\n",
    "data_sifted = data[['record_id','int_session', 'gender', 'pigs_casecontrol', 'word_acc_diff', \n",
    "                  'pseudo_acc_diff', 'first_acc_diff', 'second_rate_diff', 'pigs_practice_numstories', \n",
    "                    'visit_age', 'wj_brs', 'twre_index', 'ctopp_rapid', 'wasi_fs2', 'ctopp_pa', 'ctopp_pm']]"
   ]
  },
  {
   "cell_type": "code",
   "execution_count": 39,
   "metadata": {},
   "outputs": [],
   "source": [
    "# look just at intervention participants\n",
    "corr_data = data_sifted[data_sifted['pigs_casecontrol'] == 1]\n",
    "corr_data_cntrl = data_sifted[data_sifted['pigs_casecontrol'] == 0]\n",
    "# Look just at session 2 for data clarity\n",
    "corr_data = corr_data[corr_data['int_session'] == 2]\n",
    "corr_data_cntrl = corr_data_cntrl[corr_data_cntrl['int_session'] == 2]"
   ]
  },
  {
   "cell_type": "markdown",
   "metadata": {},
   "source": [
    "#### Growth and Practice - Intervention Group"
   ]
  },
  {
   "cell_type": "code",
   "execution_count": 40,
   "metadata": {},
   "outputs": [
    {
     "data": {
      "text/plain": [
       "(-0.1434484895843433, 0.5462773240391416)"
      ]
     },
     "execution_count": 40,
     "metadata": {},
     "output_type": "execute_result"
    }
   ],
   "source": [
    "stats.pearsonr(corr_data['word_acc_diff'], corr_data['pigs_practice_numstories'])"
   ]
  },
  {
   "cell_type": "code",
   "execution_count": 41,
   "metadata": {},
   "outputs": [
    {
     "data": {
      "text/plain": [
       "(0.21916216396969712, 0.3532158391938578)"
      ]
     },
     "execution_count": 41,
     "metadata": {},
     "output_type": "execute_result"
    }
   ],
   "source": [
    "stats.pearsonr(corr_data['pseudo_acc_diff'], corr_data['pigs_practice_numstories'])"
   ]
  },
  {
   "cell_type": "markdown",
   "metadata": {},
   "source": [
    "#### Growth and Practice - Control Group"
   ]
  },
  {
   "cell_type": "code",
   "execution_count": 42,
   "metadata": {},
   "outputs": [
    {
     "data": {
      "text/plain": [
       "(0.00914727683396166, 0.9694688991495032)"
      ]
     },
     "execution_count": 42,
     "metadata": {},
     "output_type": "execute_result"
    }
   ],
   "source": [
    "stats.pearsonr(corr_data_cntrl['word_acc_diff'], corr_data_cntrl['pigs_practice_numstories'])"
   ]
  },
  {
   "cell_type": "code",
   "execution_count": 43,
   "metadata": {},
   "outputs": [
    {
     "data": {
      "text/plain": [
       "(-0.37493954998435575, 0.10333943437958235)"
      ]
     },
     "execution_count": 43,
     "metadata": {},
     "output_type": "execute_result"
    }
   ],
   "source": [
    "stats.pearsonr(corr_data_cntrl['pseudo_acc_diff'], corr_data_cntrl['pigs_practice_numstories'])"
   ]
  },
  {
   "cell_type": "markdown",
   "metadata": {},
   "source": [
    "#### Real Word Decoding & Predictors"
   ]
  },
  {
   "cell_type": "code",
   "execution_count": 44,
   "metadata": {},
   "outputs": [
    {
     "data": {
      "text/plain": [
       "(-0.35460379946585185, 0.12501074358035694)"
      ]
     },
     "execution_count": 44,
     "metadata": {},
     "output_type": "execute_result"
    }
   ],
   "source": [
    "stats.pearsonr(corr_data['word_acc_diff'], corr_data['visit_age'])"
   ]
  },
  {
   "cell_type": "code",
   "execution_count": 45,
   "metadata": {},
   "outputs": [
    {
     "data": {
      "text/plain": [
       "(-0.14126636219201166, 0.552461664144954)"
      ]
     },
     "execution_count": 45,
     "metadata": {},
     "output_type": "execute_result"
    }
   ],
   "source": [
    "stats.pearsonr(corr_data['word_acc_diff'], corr_data['wasi_fs2'])"
   ]
  },
  {
   "cell_type": "code",
   "execution_count": 46,
   "metadata": {},
   "outputs": [
    {
     "data": {
      "text/plain": [
       "(-0.30060915969261875, 0.19780291884054285)"
      ]
     },
     "execution_count": 46,
     "metadata": {},
     "output_type": "execute_result"
    }
   ],
   "source": [
    "stats.pearsonr(corr_data['word_acc_diff'], corr_data['ctopp_pa'])"
   ]
  },
  {
   "cell_type": "code",
   "execution_count": 47,
   "metadata": {},
   "outputs": [
    {
     "data": {
      "text/plain": [
       "(-0.2614814449698232, 0.2654511378942844)"
      ]
     },
     "execution_count": 47,
     "metadata": {},
     "output_type": "execute_result"
    }
   ],
   "source": [
    "stats.pearsonr(corr_data['word_acc_diff'], corr_data['ctopp_pm'])"
   ]
  },
  {
   "cell_type": "markdown",
   "metadata": {},
   "source": [
    "#### Pseudo Word Decoding & Predictors"
   ]
  },
  {
   "cell_type": "code",
   "execution_count": 48,
   "metadata": {},
   "outputs": [
    {
     "data": {
      "text/plain": [
       "(-0.1696877785130529, 0.4744752524150999)"
      ]
     },
     "execution_count": 48,
     "metadata": {},
     "output_type": "execute_result"
    }
   ],
   "source": [
    "stats.pearsonr(corr_data['pseudo_acc_diff'], corr_data['visit_age'])"
   ]
  },
  {
   "cell_type": "code",
   "execution_count": 49,
   "metadata": {},
   "outputs": [
    {
     "data": {
      "text/plain": [
       "(-0.4934371784542496, 0.02704102262642834)"
      ]
     },
     "execution_count": 49,
     "metadata": {},
     "output_type": "execute_result"
    }
   ],
   "source": [
    "stats.pearsonr(corr_data['pseudo_acc_diff'], corr_data['wasi_fs2'])"
   ]
  },
  {
   "cell_type": "code",
   "execution_count": 50,
   "metadata": {},
   "outputs": [
    {
     "data": {
      "text/plain": [
       "(-0.5202673299480975, 0.018692151119533245)"
      ]
     },
     "execution_count": 50,
     "metadata": {},
     "output_type": "execute_result"
    }
   ],
   "source": [
    "stats.pearsonr(corr_data['pseudo_acc_diff'], corr_data['ctopp_pa'])"
   ]
  },
  {
   "cell_type": "code",
   "execution_count": 51,
   "metadata": {},
   "outputs": [
    {
     "data": {
      "text/plain": [
       "(-0.47537405162983504, 0.03414714542588039)"
      ]
     },
     "execution_count": 51,
     "metadata": {},
     "output_type": "execute_result"
    }
   ],
   "source": [
    "stats.pearsonr(corr_data['pseudo_acc_diff'], corr_data['ctopp_pm'])"
   ]
  },
  {
   "cell_type": "markdown",
   "metadata": {},
   "source": [
    "#### Passage Reading Accuracy & Predictors"
   ]
  },
  {
   "cell_type": "code",
   "execution_count": 52,
   "metadata": {},
   "outputs": [],
   "source": [
    "# resift data so that nan-removal is only affected by nans in accuracy\n",
    "data_accuracy = data[['record_id','int_session', 'pigs_casecontrol', 'word_acc_diff', \n",
    "                  'pseudo_acc_diff', 'first_acc_diff', 'pigs_practice_numstories', \n",
    "                    'visit_age', 'wj_brs', 'twre_index', 'ctopp_rapid', 'wasi_fs2', 'ctopp_pa', 'ctopp_pm']]\n",
    "# look just at intervention participants\n",
    "corr_accuracy = data_accuracy[data_accuracy['pigs_casecontrol'] == 1]\n",
    "corr_accuracy_cntrl = data_accuracy[data_accuracy['pigs_casecontrol'] == 0]\n",
    "corr_accuracy = corr_accuracy[corr_accuracy['int_session'] == 2].dropna()\n",
    "corr_accuracy_cntrl = corr_accuracy_cntrl[corr_accuracy_cntrl['int_session'] == 2].dropna()"
   ]
  },
  {
   "cell_type": "code",
   "execution_count": 53,
   "metadata": {},
   "outputs": [
    {
     "data": {
      "text/plain": [
       "(-0.5487026978511689, 0.027734757085666365)"
      ]
     },
     "execution_count": 53,
     "metadata": {},
     "output_type": "execute_result"
    }
   ],
   "source": [
    "stats.pearsonr(corr_accuracy['first_acc_diff'], corr_accuracy['visit_age'])"
   ]
  },
  {
   "cell_type": "code",
   "execution_count": 54,
   "metadata": {},
   "outputs": [
    {
     "data": {
      "text/plain": [
       "(-0.3207478258173936, 0.22580135086925088)"
      ]
     },
     "execution_count": 54,
     "metadata": {},
     "output_type": "execute_result"
    }
   ],
   "source": [
    "stats.pearsonr(corr_accuracy['first_acc_diff'], corr_accuracy['wasi_fs2'])"
   ]
  },
  {
   "cell_type": "code",
   "execution_count": 55,
   "metadata": {},
   "outputs": [
    {
     "data": {
      "text/plain": [
       "(-0.34968459546887287, 0.18429142619946642)"
      ]
     },
     "execution_count": 55,
     "metadata": {},
     "output_type": "execute_result"
    }
   ],
   "source": [
    "stats.pearsonr(corr_accuracy['first_acc_diff'], corr_accuracy['ctopp_pa'])"
   ]
  },
  {
   "cell_type": "code",
   "execution_count": 56,
   "metadata": {},
   "outputs": [
    {
     "data": {
      "text/plain": [
       "(-0.42777920507510525, 0.09835307127353096)"
      ]
     },
     "execution_count": 56,
     "metadata": {},
     "output_type": "execute_result"
    }
   ],
   "source": [
    "stats.pearsonr(corr_accuracy['first_acc_diff'], corr_accuracy['ctopp_pm'])"
   ]
  },
  {
   "cell_type": "markdown",
   "metadata": {},
   "source": [
    "#### Passage Reading Rate & Predictors"
   ]
  },
  {
   "cell_type": "code",
   "execution_count": 57,
   "metadata": {},
   "outputs": [],
   "source": [
    "# resift data so that nan-removal is only affected by nans in rate\n",
    "data_rate = data[['record_id','int_session', 'pigs_casecontrol', 'word_acc_diff', \n",
    "                  'pseudo_acc_diff', 'second_rate_diff', 'pigs_practice_numstories', \n",
    "                    'visit_age', 'wj_brs', 'twre_index', 'ctopp_rapid', 'wasi_fs2', 'ctopp_pa', 'ctopp_pm']]\n",
    "# look just at intervention participants\n",
    "corr_rate = data_rate[data_rate['pigs_casecontrol'] == 1]\n",
    "corr_rate_cntrl = data_rate[data_rate['pigs_casecontrol'] == 0]\n",
    "corr_rate = corr_rate[corr_rate['int_session'] == 2].dropna()\n",
    "corr_rate_cntrl = corr_rate_cntrl[corr_rate_cntrl['int_session'] == 2].dropna()"
   ]
  },
  {
   "cell_type": "code",
   "execution_count": 58,
   "metadata": {},
   "outputs": [
    {
     "data": {
      "text/plain": [
       "(0.10551986550099002, 0.7082035274306163)"
      ]
     },
     "execution_count": 58,
     "metadata": {},
     "output_type": "execute_result"
    }
   ],
   "source": [
    "stats.pearsonr(corr_rate['second_rate_diff'], corr_rate['visit_age'])"
   ]
  },
  {
   "cell_type": "code",
   "execution_count": 59,
   "metadata": {},
   "outputs": [
    {
     "data": {
      "text/plain": [
       "(0.02321689070870936, 0.9345449615179485)"
      ]
     },
     "execution_count": 59,
     "metadata": {},
     "output_type": "execute_result"
    }
   ],
   "source": [
    "stats.pearsonr(corr_rate['second_rate_diff'], corr_rate['wasi_fs2'])"
   ]
  },
  {
   "cell_type": "code",
   "execution_count": 60,
   "metadata": {},
   "outputs": [
    {
     "data": {
      "text/plain": [
       "(0.052418300923755295, 0.8528141946197414)"
      ]
     },
     "execution_count": 60,
     "metadata": {},
     "output_type": "execute_result"
    }
   ],
   "source": [
    "stats.pearsonr(corr_rate['second_rate_diff'], corr_rate['ctopp_pa'])"
   ]
  },
  {
   "cell_type": "code",
   "execution_count": 61,
   "metadata": {},
   "outputs": [
    {
     "data": {
      "text/plain": [
       "(0.1980046221242171, 0.4793229079994812)"
      ]
     },
     "execution_count": 61,
     "metadata": {},
     "output_type": "execute_result"
    }
   ],
   "source": [
    "stats.pearsonr(corr_rate['second_rate_diff'], corr_rate['ctopp_pm'])"
   ]
  },
  {
   "cell_type": "markdown",
   "metadata": {},
   "source": [
    "### Effect Size Analyses"
   ]
  },
  {
   "cell_type": "markdown",
   "metadata": {},
   "source": [
    "#### Real Word"
   ]
  },
  {
   "cell_type": "markdown",
   "metadata": {},
   "source": [
    "##### data structure most relevant is corr_data for intervention group and corr_data_cntrl for control group"
   ]
  },
  {
   "cell_type": "code",
   "execution_count": 62,
   "metadata": {},
   "outputs": [],
   "source": [
    "x = corr_data.word_acc_diff\n",
    "y = corr_data_cntrl.word_acc_diff"
   ]
  },
  {
   "cell_type": "code",
   "execution_count": 63,
   "metadata": {},
   "outputs": [
    {
     "name": "stdout",
     "output_type": "stream",
     "text": [
      "Cohen's d:  0.5686864296949145\n"
     ]
    }
   ],
   "source": [
    "d = (np.mean(x) - np.mean(y)) / np.sqrt((np.std(x, ddof=1) ** 2 + np.std(y, ddof=1) ** 2) / 2.0)\n",
    "print(\"Cohen's d: \",d)"
   ]
  },
  {
   "cell_type": "markdown",
   "metadata": {},
   "source": [
    "#### Pseudo Word"
   ]
  },
  {
   "cell_type": "code",
   "execution_count": 64,
   "metadata": {},
   "outputs": [],
   "source": [
    "x = corr_data.pseudo_acc_diff\n",
    "y = corr_data_cntrl.pseudo_acc_diff"
   ]
  },
  {
   "cell_type": "code",
   "execution_count": 65,
   "metadata": {},
   "outputs": [
    {
     "name": "stdout",
     "output_type": "stream",
     "text": [
      "Cohen's d:  0.7429769651763583\n"
     ]
    }
   ],
   "source": [
    "d = (np.mean(x) - np.mean(y)) / np.sqrt((np.std(x, ddof=1) ** 2 + np.std(y, ddof=1) ** 2) / 2.0)\n",
    "print(\"Cohen's d: \",d)"
   ]
  },
  {
   "cell_type": "markdown",
   "metadata": {},
   "source": [
    "#### Passage Accuracy"
   ]
  },
  {
   "cell_type": "code",
   "execution_count": 66,
   "metadata": {},
   "outputs": [],
   "source": [
    "x = corr_accuracy.first_acc_diff\n",
    "y = corr_accuracy_cntrl.first_acc_diff"
   ]
  },
  {
   "cell_type": "code",
   "execution_count": 67,
   "metadata": {},
   "outputs": [
    {
     "name": "stdout",
     "output_type": "stream",
     "text": [
      "Cohen's d:  0.3635296154143578\n"
     ]
    }
   ],
   "source": [
    "d = (np.mean(x) - np.mean(y)) / np.sqrt((np.std(x, ddof=1) ** 2 + np.std(y, ddof=1) ** 2) / 2.0)\n",
    "print(\"Cohen's d: \",d)"
   ]
  },
  {
   "cell_type": "markdown",
   "metadata": {},
   "source": [
    "#### Passage Rate"
   ]
  },
  {
   "cell_type": "code",
   "execution_count": 68,
   "metadata": {},
   "outputs": [],
   "source": [
    "x = corr_rate.second_rate_diff\n",
    "y = corr_rate_cntrl.second_rate_diff"
   ]
  },
  {
   "cell_type": "code",
   "execution_count": 69,
   "metadata": {},
   "outputs": [
    {
     "name": "stdout",
     "output_type": "stream",
     "text": [
      "Cohen's d:  0.1270477151527451\n"
     ]
    }
   ],
   "source": [
    "d = (np.mean(x) - np.mean(y)) / np.sqrt((np.std(x, ddof=1) ** 2 + np.std(y, ddof=1) ** 2) / 2.0)\n",
    "print(\"Cohen's d: \",d)"
   ]
  }
 ],
 "metadata": {
  "kernelspec": {
   "display_name": "Python 3",
   "language": "python",
   "name": "python3"
  },
  "language_info": {
   "codemirror_mode": {
    "name": "ipython",
    "version": 3
   },
   "file_extension": ".py",
   "mimetype": "text/x-python",
   "name": "python",
   "nbconvert_exporter": "python",
   "pygments_lexer": "ipython3",
   "version": "3.7.6"
  }
 },
 "nbformat": 4,
 "nbformat_minor": 4
}
